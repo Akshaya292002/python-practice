{
 "cells": [
  {
   "cell_type": "code",
   "execution_count": null,
   "id": "2f66e653-ec46-47ff-84d6-03bdd4b1423a",
   "metadata": {},
   "outputs": [],
   "source": [
    "# 1. vamshi restraunt"
   ]
  },
  {
   "cell_type": "code",
   "execution_count": 3,
   "id": "4ee83830-07e3-4527-9c9e-fc3b8271cd57",
   "metadata": {},
   "outputs": [
    {
     "name": "stdout",
     "output_type": "stream",
     "text": [
      "welcome to vamshi restraunt\n",
      "here is our veg and non veg menu\n",
      "veg menu:(veg)\n",
      "non veg menu:(non_veg)\n"
     ]
    },
    {
     "name": "stdout",
     "output_type": "stream",
     "text": [
      "please tell your order prawns\n"
     ]
    },
    {
     "name": "stdout",
     "output_type": "stream",
     "text": [
      " we have prawns in non veg, it will be ready please wait for it\n"
     ]
    }
   ],
   "source": [
    "veg=['panner curry','methi chaman','cashew curry','gobi fry','kadai panner']\n",
    "non_veg=['prawns','chicken fry','mutton','chicken curry','fish']\n",
    "print(\"welcome to vamshi restraunt\")\n",
    "print(\"here is our veg and non veg menu\")\n",
    "print(f'veg menu:(veg)')\n",
    "print(f'non veg menu:(non_veg)')\n",
    "\n",
    "def restraunt(veg,non_veg):\n",
    "    while True:\n",
    "        user=input(\"please tell your order\")\n",
    "        if user in veg:\n",
    "            print(f' we have {user} in veg, it will be ready please wait for it')\n",
    "            break\n",
    "        elif user in non_veg:\n",
    "            print(f' we have {user} in non veg, it will be ready please wait for it')\n",
    "            break\n",
    "        else:\n",
    "            print(f'{user} we are not serving the current item')\n",
    "restraunt(veg,non_veg)"
   ]
  },
  {
   "cell_type": "markdown",
   "id": "04dc76b6-525a-48fc-b5ce-95b6957f139b",
   "metadata": {},
   "source": [
    "# 2. write a python program to check if a prime numbers or not by using function"
   ]
  },
  {
   "cell_type": "code",
   "execution_count": 9,
   "id": "6e906cb5-5c30-431e-8eac-108796af6680",
   "metadata": {},
   "outputs": [
    {
     "name": "stdout",
     "output_type": "stream",
     "text": [
      "5 is prime number\n",
      "7 is prime number\n"
     ]
    }
   ],
   "source": [
    "def prime_number(num):\n",
    "    for i in range(2,num):\n",
    "        if num % i == 0:\n",
    "            print(f'{num} is not prime')\n",
    "        else:\n",
    "            print(f'{num} is prime number')\n",
    "            break\n",
    "\n",
    "\n",
    "prime_number(5)\n",
    "prime_number(7)"
   ]
  },
  {
   "cell_type": "markdown",
   "id": "190abc7b-5f10-433a-9580-8867e193c9d0",
   "metadata": {},
   "source": [
    "# 3.print the following number in pattern"
   ]
  },
  {
   "cell_type": "code",
   "execution_count": 9,
   "id": "54c36f00-4123-4f56-9df6-a5f39cdc0514",
   "metadata": {},
   "outputs": [
    {
     "name": "stdout",
     "output_type": "stream",
     "text": [
      "1 1 1 1 1 \n",
      "2 2 2 2 \n",
      "3 3 3 \n",
      "4 4 \n",
      "5 \n"
     ]
    }
   ],
   "source": [
    "for i in range(5,0, -1):\n",
    "    print(f'{6-i} ' * i)"
   ]
  },
  {
   "cell_type": "markdown",
   "id": "4f48f889-bc2b-47fc-88b0-378d11a38db0",
   "metadata": {},
   "source": [
    "# 4. write a python code to convert celsius to farenheit"
   ]
  },
  {
   "cell_type": "code",
   "execution_count": 27,
   "id": "f95425d2-96ca-4bc4-bb7f-5b444c2cf057",
   "metadata": {},
   "outputs": [
    {
     "name": "stdout",
     "output_type": "stream",
     "text": [
      "enter celsius:  23\n"
     ]
    },
    {
     "name": "stdout",
     "output_type": "stream",
     "text": [
      "73.4\n"
     ]
    }
   ],
   "source": [
    "# far to cel\n",
    "#c=(f-32)/9/5\n",
    "c=celsius=float(input(\"enter celsius: \"))\n",
    "f=(c*(9/5))+32\n",
    "print(f)"
   ]
  },
  {
   "cell_type": "markdown",
   "id": "5872100f-11fa-4209-882e-a87a09b2911b",
   "metadata": {},
   "source": [
    "# 5.write a function to calculate simple interest"
   ]
  },
  {
   "cell_type": "code",
   "execution_count": 29,
   "id": "1f754f81-3991-44ca-b240-5b93d7a48c70",
   "metadata": {},
   "outputs": [
    {
     "name": "stdout",
     "output_type": "stream",
     "text": [
      "enter a amount: 4567\n",
      "enter a rate: 3.6\n",
      "enter a time: 5\n"
     ]
    },
    {
     "name": "stdout",
     "output_type": "stream",
     "text": [
      "simple interest is: 82206.0\n"
     ]
    }
   ],
   "source": [
    "a=int(input(\"enter a amount:\"))\n",
    "r=float(input(\"enter a rate:\"))\n",
    "t=int(input(\"enter a time:\"))\n",
    "i=a*r*t\n",
    "print(\"simple interest is:\",i)"
   ]
  },
  {
   "cell_type": "markdown",
   "id": "ceb27794-27aa-460b-b3df-dffe2cf2f99c",
   "metadata": {},
   "source": [
    "# 6. write a python program to convert in to int to decimal by using function"
   ]
  },
  {
   "cell_type": "code",
   "execution_count": 33,
   "id": "21ebaee9-5e23-4fc9-9a44-c6946fa02ff5",
   "metadata": {},
   "outputs": [
    {
     "name": "stdout",
     "output_type": "stream",
     "text": [
      "enter a number 555\n"
     ]
    },
    {
     "name": "stdout",
     "output_type": "stream",
     "text": [
      "555.0\n"
     ]
    }
   ],
   "source": [
    "def convert (num):\n",
    "    c=float(num)\n",
    "    print(c)\n",
    "\n",
    "num=int(input(\"enter a number\"))\n",
    "convert(num)"
   ]
  },
  {
   "cell_type": "markdown",
   "id": "0b952b2a-45d4-4aee-b705-f6b0ac0e93df",
   "metadata": {},
   "source": [
    "# 7.write a python program to check given character is digit or not"
   ]
  },
  {
   "cell_type": "code",
   "execution_count": 3,
   "id": "ab19960e-a8d6-4aea-b589-113e0add83d7",
   "metadata": {},
   "outputs": [
    {
     "name": "stdout",
     "output_type": "stream",
     "text": [
      "44 is a digit\n"
     ]
    }
   ],
   "source": [
    "def character(char):\n",
    "    char1=str(char)\n",
    "    if char1.isdigit():\n",
    "        print(f\"{char1} is a digit\")\n",
    "    else:\n",
    "        print(f\"{char1} is not a digit\")\n",
    "\n",
    "character(44)"
   ]
  },
  {
   "cell_type": "markdown",
   "id": "532dd040-7ece-4354-bbaa-97f40a9b56fd",
   "metadata": {},
   "source": [
    "# 8. write a python program to check number is amstrong or not"
   ]
  },
  {
   "cell_type": "code",
   "execution_count": 3,
   "id": "7b82124a-c721-4909-9c63-04ba2faabae8",
   "metadata": {},
   "outputs": [
    {
     "name": "stdout",
     "output_type": "stream",
     "text": [
      "enter a number: 66\n"
     ]
    },
    {
     "name": "stdout",
     "output_type": "stream",
     "text": [
      "66  is not a armstrong number\n"
     ]
    }
   ],
   "source": [
    "def armstrong(num):\n",
    "    digits=[int(digit) for digit in str(num)]\n",
    "    count=0\n",
    "    num_digits=len(digits)\n",
    "    for i in digits:\n",
    "        count += i**num_digits\n",
    "        if count == num:\n",
    "            print(num,' is an armstrong number')\n",
    "        else:\n",
    "            print(num,' is not a armstrong number')\n",
    "            break\n",
    "            \n",
    "num=int(input(\"enter a number:\"))\n",
    "armstrong(num)"
   ]
  },
  {
   "cell_type": "markdown",
   "id": "b55b2b68-d591-40f5-a94c-d6dbe8c7aae6",
   "metadata": {},
   "source": [
    "# 9. write a python program to check non repeating of first occurance char in string"
   ]
  },
  {
   "cell_type": "code",
   "execution_count": 49,
   "id": "49709513-4f1e-41d4-9b33-5e893ce433f7",
   "metadata": {},
   "outputs": [
    {
     "name": "stdout",
     "output_type": "stream",
     "text": [
      "enter a character: akshaya\n"
     ]
    },
    {
     "name": "stdout",
     "output_type": "stream",
     "text": [
      "k is the first non-repeating of the string\n"
     ]
    }
   ],
   "source": [
    "str=input(\"enter a character:\")\n",
    "for i in str:\n",
    "    if str.count(i) == 1:\n",
    "        print(f'{i} is the first non-repeating of the string')\n",
    "        break\n",
    "else:\n",
    "    print(f'{i} there are no first non-repeatimg string')\n",
    "        "
   ]
  },
  {
   "cell_type": "markdown",
   "id": "20f024a2-40a2-4147-8642-88007b9f7e62",
   "metadata": {},
   "source": [
    "# 10. write a python code to find greatest common divisor"
   ]
  },
  {
   "cell_type": "code",
   "execution_count": 71,
   "id": "12f19c79-85f3-4cae-9f3d-c9d37d8ce6f6",
   "metadata": {},
   "outputs": [
    {
     "data": {
      "text/plain": [
       "'the GCD is 20'"
      ]
     },
     "execution_count": 71,
     "metadata": {},
     "output_type": "execute_result"
    }
   ],
   "source": [
    "def common_divisor(a, b):\n",
    "    while b != 0:\n",
    "        a, b= b, a % b\n",
    "        return f'the GCD is {a}'\n",
    "\n",
    "common_divisor(8,20)"
   ]
  },
  {
   "cell_type": "markdown",
   "id": "08c2b358-714d-46f6-8b09-8b8f92daa3a1",
   "metadata": {},
   "source": [
    "# 11. write a python code to remove duplicates from list"
   ]
  },
  {
   "cell_type": "code",
   "execution_count": 7,
   "id": "f3aaac22-b342-4365-a611-e6255b1dceba",
   "metadata": {},
   "outputs": [
    {
     "name": "stdout",
     "output_type": "stream",
     "text": [
      "[1, 2, 3, 4, 5, 4, 6, 5]\n",
      "[1, 2, 3, 4, 5, 6]\n",
      "[1, 2, 3, 4, 5]\n"
     ]
    }
   ],
   "source": [
    "list1=[1,2,3,4,5,4,6,5]\n",
    "list2=list(set(list1))\n",
    "print(list1)\n",
    "print(list2)\n",
    "my_list=[1,2,2,3,4,4,5]\n",
    "unique_list=[]\n",
    "for item in my_list:\n",
    "    if item not in unique_list:\n",
    "        unique_list.append(item)\n",
    "\n",
    "print(unique_list)"
   ]
  },
  {
   "cell_type": "markdown",
   "id": "64f59eb6-fb28-49d0-b2ee-cf86e8ba3449",
   "metadata": {},
   "source": [
    "# 12. write a python program to replace the string space by given character"
   ]
  },
  {
   "cell_type": "code",
   "execution_count": 9,
   "id": "475cfd58-bce8-495e-9bd1-62d116117fca",
   "metadata": {},
   "outputs": [
    {
     "name": "stdout",
     "output_type": "stream",
     "text": [
      "python is the best programming language\n",
      "python@is@the@best@programming@language\n"
     ]
    }
   ],
   "source": [
    "p=\"python is the best programming language\"\n",
    "a=p.replace(\" \",\"@\")\n",
    "print(p)\n",
    "print(a)"
   ]
  },
  {
   "cell_type": "markdown",
   "id": "30a6b7ee-c0fc-4d1b-8aeb-24575ecd8d9b",
   "metadata": {},
   "source": [
    "# 13. write a python code to swap two numbers by not using third variable"
   ]
  },
  {
   "cell_type": "code",
   "execution_count": 55,
   "id": "675b84aa-48c9-4578-8997-8b2d744c786d",
   "metadata": {},
   "outputs": [
    {
     "name": "stdout",
     "output_type": "stream",
     "text": [
      "enter a number 5\n",
      "enter a number 6\n"
     ]
    },
    {
     "name": "stdout",
     "output_type": "stream",
     "text": [
      "before swapping of a: 5\n",
      "before swapping of b: 6\n",
      "after swapping of a: 6\n",
      "after swapping of b: 5\n"
     ]
    }
   ],
   "source": [
    "a=int(input(\"enter a number\"))\n",
    "b=int(input(\"enter a number\"))\n",
    "print(\"before swapping of a:\",a)\n",
    "print(\"before swapping of b:\",b)\n",
    "a=a+b\n",
    "b=a-b\n",
    "a=a-b\n",
    "print(\"after swapping of a:\",a)\n",
    "print(\"after swapping of b:\",b)\n"
   ]
  },
  {
   "cell_type": "markdown",
   "id": "ac0e6148-479f-4330-80b3-f841f8fb62b0",
   "metadata": {},
   "source": [
    "# 14. write a python programb to add two integers,without using any arithmetic operator"
   ]
  },
  {
   "cell_type": "code",
   "execution_count": 63,
   "id": "fa843169-d93a-4580-94a5-e53a9bd84928",
   "metadata": {},
   "outputs": [
    {
     "name": "stdout",
     "output_type": "stream",
     "text": [
      "enter a number 2\n",
      "enter a number 6\n"
     ]
    },
    {
     "name": "stdout",
     "output_type": "stream",
     "text": [
      "does not exist\n",
      "6\n"
     ]
    }
   ],
   "source": [
    "a=int(input(\"enter a number\"))\n",
    "b=int(input(\"enter a number\"))\n",
    "if a>0 or b<=0:\n",
    "    print(\"does not exist\")\n",
    "    \n",
    "    result=a | b\n",
    "    print(result)"
   ]
  }
 ],
 "metadata": {
  "kernelspec": {
   "display_name": "Python 3 (ipykernel)",
   "language": "python",
   "name": "python3"
  },
  "language_info": {
   "codemirror_mode": {
    "name": "ipython",
    "version": 3
   },
   "file_extension": ".py",
   "mimetype": "text/x-python",
   "name": "python",
   "nbconvert_exporter": "python",
   "pygments_lexer": "ipython3",
   "version": "3.12.4"
  }
 },
 "nbformat": 4,
 "nbformat_minor": 5
}
